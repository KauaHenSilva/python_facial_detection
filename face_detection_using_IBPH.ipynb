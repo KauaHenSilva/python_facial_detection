{
  "cells": [
    {
      "cell_type": "markdown",
      "metadata": {
        "id": "view-in-github",
        "colab_type": "text"
      },
      "source": [
        "<a href=\"https://colab.research.google.com/github/KauaHenSilva/python_facial_detection/blob/main/face_detection_using_IBPH/main.ipynb\" target=\"_parent\"><img src=\"https://colab.research.google.com/assets/colab-badge.svg\" alt=\"Open In Colab\"/></a>"
      ]
    },
    {
      "cell_type": "code",
      "execution_count": 3,
      "metadata": {
        "id": "FsGOL5UHEd-v"
      },
      "outputs": [],
      "source": [
        "from PIL import Image\n",
        "import cv2\n",
        "import numpy as np\n",
        "import os\n",
        "from sklearn.metrics import accuracy_score, confusion_matrix\n",
        "import seaborn\n"
      ]
    },
    {
      "cell_type": "markdown",
      "source": [
        "### Setup"
      ],
      "metadata": {
        "id": "Z7PPDg2GEsht"
      }
    },
    {
      "cell_type": "code",
      "source": [
        "import requests\n",
        "import zipfile\n",
        "import shutil\n",
        "\n",
        "def download_large_file_from_google_drive(file_id, destination):\n",
        "    base_url = \"https://drive.google.com/uc?export=download\"\n",
        "\n",
        "    with requests.Session() as session:\n",
        "        response = session.get(base_url, params={'id': file_id}, stream=True)\n",
        "        for key, value in response.cookies.items():\n",
        "            if key.startswith('download_warning'):\n",
        "                confirm_token = value\n",
        "                break\n",
        "        else:\n",
        "            confirm_token = None\n",
        "\n",
        "        if confirm_token:\n",
        "            params = {'id': file_id, 'confirm': confirm_token}\n",
        "            response = session.get(base_url, params=params, stream=True)\n",
        "\n",
        "        # Escrever o conteúdo do arquivo no destino\n",
        "        with open(destination, 'wb') as f:\n",
        "            for chunk in response.iter_content(32768):\n",
        "                f.write(chunk)\n",
        "\n",
        "download_large_file_from_google_drive('1l2wyk0--oFj_agtV2MuTPkkvfGZatTnN', 'yalefaces.rar')\n",
        "\n",
        "with zipfile.ZipFile('yalefaces.rar', 'r') as zip_ref:\n",
        "    zip_ref.extractall('yalefaces_temp')\n",
        "\n",
        "if not os.path.exists('yalefaces'):\n",
        "    shutil.move('yalefaces_temp/yalefaces', 'yalefaces')\n",
        "\n",
        "shutil.rmtree('yalefaces_temp')\n",
        "os.remove('yalefaces.rar')"
      ],
      "metadata": {
        "id": "kDJ0sELjEva3"
      },
      "execution_count": 7,
      "outputs": []
    },
    {
      "cell_type": "code",
      "execution_count": 8,
      "metadata": {
        "id": "kgJRHE_yEd-y",
        "outputId": "0674d5f3-3bd1-42fe-f942-e636027ff3bf",
        "colab": {
          "base_uri": "https://localhost:8080/"
        }
      },
      "outputs": [
        {
          "output_type": "stream",
          "name": "stdout",
          "text": [
            "Start reading images\n",
            "End reading images\n"
          ]
        }
      ],
      "source": [
        "filesPATH = [os.path.join(\"yalefaces/train\", f) for f in os.listdir(\"yalefaces/train\")]\n",
        "faces = []\n",
        "ids = []\n",
        "\n",
        "print(\"Start reading images\")\n",
        "for file in filesPATH:\n",
        "    img = Image.open(file).convert(\"L\")\n",
        "    img_np = np.array(img, \"uint8\")\n",
        "    faces.append(img_np)\n",
        "    ids.append(int(file.split(\"subject\")[1].split(\".\")[0]))\n",
        "print(\"End reading images\")"
      ]
    },
    {
      "cell_type": "code",
      "execution_count": 9,
      "metadata": {
        "id": "-_uyvEC7Ed-0",
        "outputId": "5288cf0b-65d3-44ca-8d7a-3baa4e034b3a",
        "colab": {
          "base_uri": "https://localhost:8080/"
        }
      },
      "outputs": [
        {
          "output_type": "stream",
          "name": "stdout",
          "text": [
            "Training...\n",
            "Training completed\n",
            "Start writing model to file\n",
            "Model saved\n"
          ]
        }
      ],
      "source": [
        "lbph_classifier = cv2.face.LBPHFaceRecognizer.create(4, 12, 9, 9)\n",
        "print(\"Training...\")\n",
        "lbph_classifier.train(faces, np.array(ids))\n",
        "print(\"Training completed\")\n",
        "\n",
        "print(\"Start writing model to file\")\n",
        "lbph_classifier.write(\"lbph_classifier.yml\")\n",
        "print(\"Model saved\")"
      ]
    },
    {
      "cell_type": "code",
      "execution_count": 10,
      "metadata": {
        "id": "zxnCfUGUEd-0",
        "outputId": "f5106615-369f-494e-ea02-958077082103",
        "colab": {
          "base_uri": "https://localhost:8080/"
        }
      },
      "outputs": [
        {
          "output_type": "stream",
          "name": "stdout",
          "text": [
            "Reading model\n",
            "Model read\n"
          ]
        }
      ],
      "source": [
        "print(\"Reading model\")\n",
        "lbph_face_classifier = cv2.face.LBPHFaceRecognizer_create()\n",
        "lbph_face_classifier.read('lbph_classifier.yml')\n",
        "print(\"Model read\")"
      ]
    },
    {
      "cell_type": "code",
      "execution_count": 11,
      "metadata": {
        "id": "3PUp-QjjEd-1",
        "outputId": "cb9bf6fc-d005-4844-f73c-7594216cd05a",
        "colab": {
          "base_uri": "https://localhost:8080/",
          "height": 452
        }
      },
      "outputs": [
        {
          "output_type": "stream",
          "name": "stdout",
          "text": [
            "Accuracy: 0.7333333333333333\n"
          ]
        },
        {
          "output_type": "display_data",
          "data": {
            "text/plain": [
              "<Figure size 640x480 with 2 Axes>"
            ],
            "image/png": "[encoded data removed]"
          },
          "metadata": {}
        }
      ],
      "source": [
        "# Test\n",
        "\n",
        "test_filesPATH = [os.path.join(\"yalefaces/test\", f) for f in os.listdir(\"yalefaces/test\")]\n",
        "\n",
        "prev = []\n",
        "expeded = []\n",
        "\n",
        "for file in test_filesPATH:\n",
        "    img = Image.open(file).convert(\"L\")\n",
        "    img_np = np.array(img, \"uint8\")\n",
        "\n",
        "    pred, _ = lbph_face_classifier.predict(img_np)\n",
        "    expected = int(file.split(\"subject\")[1].split(\".\")[0])\n",
        "\n",
        "    prev.append(pred)\n",
        "    expeded.append(expected)\n",
        "\n",
        "accuracy = accuracy_score(expeded, prev)\n",
        "print(\"Accuracy: \" + str(accuracy))\n",
        "\n",
        "seaborn.heatmap(confusion_matrix(expeded, prev), annot=True);\n"
      ]
    }
  ],
  "metadata": {
    "kernelspec": {
      "display_name": ".venv",
      "language": "python",
      "name": "python3"
    },
    "language_info": {
      "codemirror_mode": {
        "name": "ipython",
        "version": 3
      },
      "file_extension": ".py",
      "mimetype": "text/x-python",
      "name": "python",
      "nbconvert_exporter": "python",
      "pygments_lexer": "ipython3",
      "version": "3.10.12"
    },
    "colab": {
      "provenance": [],
      "include_colab_link": true
    }
  },
  "nbformat": 4,
  "nbformat_minor": 0
}