{
  "nbformat": 4,
  "nbformat_minor": 0,
  "metadata": {
    "colab": {
      "provenance": [],
      "gpuType": "T4",
      "authorship_tag": "ABX9TyMd3sjky2dNaRPuXSow0+VW",
      "include_colab_link": true
    },
    "kernelspec": {
      "name": "python3",
      "display_name": "Python 3"
    },
    "language_info": {
      "name": "python"
    },
    "accelerator": "GPU"
  },
  "cells": [
    {
      "cell_type": "markdown",
      "metadata": {
        "id": "view-in-github",
        "colab_type": "text"
      },
      "source": [
        "<a href=\"https://colab.research.google.com/github/KauaHenSilva/python_facial_detection/blob/main/face_detection_using_IBPH.ipynb\" target=\"_parent\"><img src=\"https://colab.research.google.com/assets/colab-badge.svg\" alt=\"Open In Colab\"/></a>"
      ]
    },
    {
      "cell_type": "markdown",
      "source": [
        "## Setup"
      ],
      "metadata": {
        "id": "ugKnxJ68Kksq"
      }
    },
    {
      "cell_type": "code",
      "source": [
        "\n",
        "import requests\n",
        "import os\n",
        "import zipfile\n",
        "import shutil\n",
        "\n",
        "\n",
        "def download_large_file_from_google_drive(file_id, destination):\n",
        "    base_url = \"https://drive.google.com/uc?export=download\"\n",
        "\n",
        "    with requests.Session() as session:\n",
        "        response = session.get(base_url, params={'id': file_id}, stream=True)\n",
        "        for key, value in response.cookies.items():\n",
        "            if key.startswith('download_warning'):\n",
        "                confirm_token = value\n",
        "                break\n",
        "        else:\n",
        "            confirm_token = None\n",
        "\n",
        "        if confirm_token:\n",
        "            params = {'id': file_id, 'confirm': confirm_token}\n",
        "            response = session.get(base_url, params=params, stream=True)\n",
        "\n",
        "        # Escrever o conteúdo do arquivo no destino\n",
        "        with open(destination, 'wb') as f:\n",
        "            for chunk in response.iter_content(32768):\n",
        "                f.write(chunk)\n",
        "\n",
        "download_large_file_from_google_drive('1zW-QRuGmiEHUG6xxMHXMhK8b3ynVsf3I', 'jones_gabriel.zip')\n",
        "\n",
        "if not os.path.exists('jones_gabriel'):\n",
        "\n",
        "    with zipfile.ZipFile('jones_gabriel.zip', 'r') as zip_ref:\n",
        "        zip_ref.extractall('jones_gabriel_temp')\n",
        "\n",
        "    shutil.move('jones_gabriel_temp/jones_gabriel', 'jones_gabriel')\n",
        "    shutil.rmtree('jones_gabriel_temp')\n",
        "    os.remove('jones_gabriel.zip')"
      ],
      "metadata": {
        "id": "DkdYTl-zKj_e"
      },
      "execution_count": 26,
      "outputs": []
    },
    {
      "cell_type": "markdown",
      "source": [
        "## Iniciando Aplicação"
      ],
      "metadata": {
        "id": "6WKns8IHNd2v"
      }
    },
    {
      "cell_type": "code",
      "source": [
        "from PIL import Image\n",
        "import cv2\n",
        "import numpy as np\n",
        "import seaborn as sbn\n",
        "from sklearn.metrics import accuracy_score, confusion_matrix"
      ],
      "metadata": {
        "id": "Negz8a9SNKHf"
      },
      "execution_count": 27,
      "outputs": []
    },
    {
      "cell_type": "markdown",
      "source": [
        "Iniciando variaveis para database"
      ],
      "metadata": {
        "id": "-oUz-9ZwOX2Y"
      }
    },
    {
      "cell_type": "code",
      "source": [
        "files_path = [os.path.join('./jones_gabriel/', x) for x in os.listdir('jones_gabriel/')]\n",
        "faces = []\n",
        "ids = []"
      ],
      "metadata": {
        "collapsed": true,
        "id": "_PKuEa2AN90j"
      },
      "execution_count": 16,
      "outputs": []
    },
    {
      "cell_type": "markdown",
      "source": [
        "Iniciando database"
      ],
      "metadata": {
        "id": "cqKqzh3lOcl4"
      }
    },
    {
      "cell_type": "code",
      "source": [
        "for file_path in files_path:\n",
        "    image = Image.open(file_path).convert('L')\n",
        "    image_np = np.array(image)\n",
        "\n",
        "    faces.append(image_np)\n",
        "    ids.append(int(file_path.split('/')[-1].split('.')[1]))"
      ],
      "metadata": {
        "id": "Uvgx6XwhOjm-"
      },
      "execution_count": 21,
      "outputs": []
    },
    {
      "cell_type": "markdown",
      "source": [
        "Treinando Modelo"
      ],
      "metadata": {
        "id": "3c6BCqCsPHbj"
      }
    },
    {
      "cell_type": "code",
      "source": [
        "lbph_classifier = cv2.face.LBPHFaceRecognizer_create()\n",
        "lbph_classifier.train(faces, np.array(ids))\n",
        "lbph_classifier.write('lbph_model.yml')"
      ],
      "metadata": {
        "id": "guhODExMP3OI"
      },
      "execution_count": 22,
      "outputs": []
    },
    {
      "cell_type": "markdown",
      "source": [
        "Lendo o Modelo"
      ],
      "metadata": {
        "id": "sAwJWk3PQZGw"
      }
    },
    {
      "cell_type": "code",
      "source": [
        "lbph_classifier = cv2.face.LBPHFaceRecognizer_create()\n",
        "lbph_classifier.read('lbph_model.yml')"
      ],
      "metadata": {
        "id": "-XB4I-4tQNKR"
      },
      "execution_count": null,
      "outputs": []
    },
    {
      "cell_type": "markdown",
      "source": [
        "Testando o modelo"
      ],
      "metadata": {
        "id": "1Ow0RqdOQfJn"
      }
    },
    {
      "cell_type": "code",
      "source": [
        "test_file_path = [os.path.join('./jones_gabriel/', x) for x in os.listdir('jones_gabriel/')]\n",
        "prev = []\n",
        "expected = []\n",
        "\n",
        "for file_path in test_file_path:\n",
        "    image = Image.open(file_path).convert('L')\n",
        "    image_np = np.array(image)\n",
        "\n",
        "    prediction = lbph_classifier.predict(image_np)\n",
        "\n",
        "    expected.append(int(file_path.split('/')[-1].split('.')[1]))\n",
        "    prev.append(prediction[0])\n",
        "\n",
        "accuracy = (np.mean(prev == expected)) * 100\n",
        "print(f'Accuracy: {accuracy}%')\n",
        "\n",
        "sbn.heatmap(confusion_matrix(expected, prev), annot=True)"
      ],
      "metadata": {
        "id": "yUcdv-ClQhAS",
        "outputId": "b4b2f1ad-1f8d-4885-837d-f5312dc113cb",
        "colab": {
          "base_uri": "https://localhost:8080/",
          "height": 470
        }
      },
      "execution_count": 29,
      "outputs": [
        {
          "output_type": "stream",
          "name": "stdout",
          "text": [
            "Accuracy: 100.0%\n"
          ]
        },
        {
          "output_type": "execute_result",
          "data": {
            "text/plain": [
              "<Axes: >"
            ]
          },
          "metadata": {},
          "execution_count": 29
        },
        {
          "output_type": "display_data",
          "data": {
            "text/plain": [
              "<Figure size 640x480 with 2 Axes>"
            ],
            "image/png": "[encoded data removed]"
          },
          "metadata": {}
        }
      ]
    }
  ]
}