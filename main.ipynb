{
  "cells": [
    {
      "cell_type": "code",
      "execution_count": 18,
      "metadata": {
        "id": "o18iRZUzr_RM"
      },
      "outputs": [],
      "source": [
        "import os\n",
        "from PIL import Image\n",
        "import numpy as np"
      ]
    },
    {
      "cell_type": "code",
      "execution_count": 34,
      "metadata": {},
      "outputs": [],
      "source": [
        "def get_image_data():\n",
        "  \n",
        "  paths = [os.path.join('./yalefaces/train', f) for f in os.listdir('./yalefaces/train')]\n",
        "  \n",
        "  faces = []\n",
        "  ids = []\n",
        "  for path in paths:\n",
        "    img = Image.open(path).convert('L')\n",
        "    img_np = np.array(img, 'uint8')\n",
        "    \n",
        "    id = int(path.split('.')[1].split('\\\\')[-1].replace('subject', ''))\n",
        "    \n",
        "    ids.append(id)\n",
        "    faces.append(img_np)\n",
        "  \n",
        "  return np.array(ids), faces"
      ]
    },
    {
      "cell_type": "code",
      "execution_count": 35,
      "metadata": {},
      "outputs": [],
      "source": [
        "ids, img = get_image_data()"
      ]
    }
  ],
  "metadata": {
    "colab": {
      "authorship_tag": "ABX9TyPJTv9/1qK/Nws1p2V8ipz0",
      "include_colab_link": true,
      "provenance": []
    },
    "kernelspec": {
      "display_name": "Python 3",
      "name": "python3"
    },
    "language_info": {
      "codemirror_mode": {
        "name": "ipython",
        "version": 3
      },
      "file_extension": ".py",
      "mimetype": "text/x-python",
      "name": "python",
      "nbconvert_exporter": "python",
      "pygments_lexer": "ipython3",
      "version": "3.11.7"
    }
  },
  "nbformat": 4,
  "nbformat_minor": 0
}
