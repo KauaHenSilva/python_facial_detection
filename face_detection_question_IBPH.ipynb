{
  "cells": [
    {
      "cell_type": "markdown",
      "metadata": {
        "colab_type": "text",
        "id": "view-in-github"
      },
      "source": [
        "<a href=\"https://colab.research.google.com/github/KauaHenSilva/python_facial_detection/blob/main/face_detection_question_IBPH/main.ipynb\" target=\"_parent\"><img src=\"https://colab.research.google.com/assets/colab-badge.svg\" alt=\"Open In Colab\"/></a>"
      ]
    },
    {
      "cell_type": "code",
      "execution_count": null,
      "metadata": {
        "id": "NqECVO5vJfsO"
      },
      "outputs": [],
      "source": [
        "print(\"Hello\")"
      ]
    }
  ],
  "metadata": {
    "colab": {
      "authorship_tag": "ABX9TyPI/aAHEAfFK0be3oJ9xp8b",
      "include_colab_link": true,
      "provenance": []
    },
    "kernelspec": {
      "display_name": "opencv_env",
      "language": "python",
      "name": "python3"
    },
    "language_info": {
      "name": "python",
      "version": "3.8.20"
    }
  },
  "nbformat": 4,
  "nbformat_minor": 0
}
