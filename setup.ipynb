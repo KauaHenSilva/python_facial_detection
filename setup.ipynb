{
 "cells": [
  {
   "cell_type": "markdown",
   "metadata": {},
   "source": [
    "### Depedenc"
   ]
  },
  {
   "cell_type": "code",
   "execution_count": 8,
   "metadata": {},
   "outputs": [],
   "source": [
    "import requests\n",
    "import zipfile\n",
    "import os\n",
    "import shutil"
   ]
  },
  {
   "cell_type": "markdown",
   "metadata": {},
   "source": [
    "### Setup to Setup"
   ]
  },
  {
   "cell_type": "code",
   "execution_count": 6,
   "metadata": {},
   "outputs": [],
   "source": [
    "\n",
    "def download_large_file_from_google_drive(file_id, destination):\n",
    "    base_url = \"https://drive.google.com/uc?export=download\"\n",
    "\n",
    "    with requests.Session() as session:\n",
    "        response = session.get(base_url, params={'id': file_id}, stream=True)\n",
    "        for key, value in response.cookies.items():\n",
    "            if key.startswith('download_warning'):\n",
    "                confirm_token = value\n",
    "                break\n",
    "        else:\n",
    "            confirm_token = None\n",
    "        \n",
    "        if confirm_token:\n",
    "            params = {'id': file_id, 'confirm': confirm_token}\n",
    "            response = session.get(base_url, params=params, stream=True)\n",
    "\n",
    "        # Escrever o conteúdo do arquivo no destino\n",
    "        with open(destination, 'wb') as f:\n",
    "            for chunk in response.iter_content(32768):\n",
    "                f.write(chunk)"
   ]
  },
  {
   "cell_type": "markdown",
   "metadata": {},
   "source": [
    "### setup face_detection_using_IBPH"
   ]
  },
  {
   "cell_type": "code",
   "execution_count": 1,
   "metadata": {},
   "outputs": [
    {
     "ename": "NameError",
     "evalue": "name 'download_large_file_from_google_drive' is not defined",
     "output_type": "error",
     "traceback": [
      "\u001b[0;31m---------------------------------------------------------------------------\u001b[0m",
      "\u001b[0;31mNameError\u001b[0m                                 Traceback (most recent call last)",
      "Cell \u001b[0;32mIn[1], line 2\u001b[0m\n\u001b[1;32m      1\u001b[0m \u001b[38;5;66;03m# download zip\u001b[39;00m\n\u001b[0;32m----> 2\u001b[0m \u001b[43mdownload_large_file_from_google_drive\u001b[49m(\u001b[38;5;124m'\u001b[39m\u001b[38;5;124m1l2wyk0--oFj_agtV2MuTPkkvfGZatTnN\u001b[39m\u001b[38;5;124m'\u001b[39m, \u001b[38;5;124m'\u001b[39m\u001b[38;5;124mtemp_.rar\u001b[39m\u001b[38;5;124m'\u001b[39m)\n\u001b[1;32m      4\u001b[0m \u001b[38;5;66;03m# extract zip\u001b[39;00m\n\u001b[1;32m      5\u001b[0m zip_object \u001b[38;5;241m=\u001b[39m zipfile\u001b[38;5;241m.\u001b[39mZipFile(file\u001b[38;5;241m=\u001b[39m\u001b[38;5;124m'\u001b[39m\u001b[38;5;124mtemp_.rar\u001b[39m\u001b[38;5;124m'\u001b[39m, mode \u001b[38;5;241m=\u001b[39m \u001b[38;5;124m'\u001b[39m\u001b[38;5;124mr\u001b[39m\u001b[38;5;124m'\u001b[39m)\n",
      "\u001b[0;31mNameError\u001b[0m: name 'download_large_file_from_google_drive' is not defined"
     ]
    }
   ],
   "source": [
    "# download zip\n",
    "download_large_file_from_google_drive('1l2wyk0--oFj_agtV2MuTPkkvfGZatTnN', 'temp_.rar')\n",
    "\n",
    "# extract zip\n",
    "zip_object = zipfile.ZipFile(file='temp_.rar', mode = 'r')\n",
    "zip_object.extractall('./')\n",
    "zip_object.close()\n",
    "\n",
    "# remove tempItens\n",
    "os.remove('temp_.rar')\n",
    "shutil.rmtree('./__MACOSX')\n",
    "\n",
    "# move to paste\n",
    "shutil.move('yalefaces', 'face_detection_using_IBPH/')"
   ]
  },
  {
   "cell_type": "markdown",
   "metadata": {},
   "source": [
    "### setup face_point_detection_using_dlib"
   ]
  },
  {
   "cell_type": "code",
   "execution_count": null,
   "metadata": {},
   "outputs": [],
   "source": [
    "\n",
    "download_large_file_from_google_drive('1ij33VAIHIMCr5tLr6mUxgWMkHSD2ARYR', 'shape_predictor_68_face_landmarks.dat')\n",
    "shutil.move('shape_predictor_68_face_landmarks.dat', 'face_point_detection_using_dlib/')\n",
    "\n",
    "download_large_file_from_google_drive('1DjGeC4tbRc3IBb8j2jJPGznBPUUSFVAz', 'people2.jpg')\n",
    "shutil.move('people2.jpg', 'face_point_detection_using_dlib/')"
   ]
  },
  {
   "cell_type": "markdown",
   "metadata": {},
   "source": [
    "### setup face_descriptor_detection"
   ]
  },
  {
   "cell_type": "code",
   "execution_count": 12,
   "metadata": {},
   "outputs": [
    {
     "data": {
      "text/plain": [
       "'face_descriptor_detection/yalefaces'"
      ]
     },
     "execution_count": 12,
     "metadata": {},
     "output_type": "execute_result"
    }
   ],
   "source": [
    "download_large_file_from_google_drive('1ij33VAIHIMCr5tLr6mUxgWMkHSD2ARYR', 'shape_predictor_68_face_landmarks.dat')\n",
    "shutil.move('shape_predictor_68_face_landmarks.dat', 'face_descriptor_detection/')\n",
    "\n",
    "download_large_file_from_google_drive('162-WIJnvAD9Xw8hdxpHukkIz_kV-ZVz4', 'dlib_face_recognition_resnet_model_v1.dat')\n",
    "shutil.move('dlib_face_recognition_resnet_model_v1.dat', 'face_descriptor_detection/')\n",
    "\n",
    "download_large_file_from_google_drive('1l2wyk0--oFj_agtV2MuTPkkvfGZatTnN', 'temp_.rar')\n",
    "zip_object = zipfile.ZipFile(file='temp_.rar', mode = 'r')\n",
    "zip_object.extractall('./')\n",
    "zip_object.close()\n",
    "os.remove('temp_.rar')\n",
    "shutil.rmtree('./__MACOSX')\n",
    "shutil.move('yalefaces', 'face_descriptor_detection/')"
   ]
  }
 ],
 "metadata": {
  "kernelspec": {
   "display_name": ".venv",
   "language": "python",
   "name": "python3"
  },
  "language_info": {
   "codemirror_mode": {
    "name": "ipython",
    "version": 3
   },
   "file_extension": ".py",
   "mimetype": "text/x-python",
   "name": "python",
   "nbconvert_exporter": "python",
   "pygments_lexer": "ipython3",
   "version": "3.10.12"
  }
 },
 "nbformat": 4,
 "nbformat_minor": 2
}
