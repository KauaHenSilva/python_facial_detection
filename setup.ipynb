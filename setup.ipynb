{
 "cells": [
  {
   "cell_type": "code",
   "execution_count": 4,
   "metadata": {},
   "outputs": [],
   "source": [
    "import requests\n",
    "import zipfile\n",
    "import os\n",
    "import shutil"
   ]
  },
  {
   "cell_type": "code",
   "execution_count": 1,
   "metadata": {},
   "outputs": [],
   "source": [
    "\n",
    "def download_large_file_from_google_drive(file_id, destination):\n",
    "    base_url = \"https://drive.google.com/uc?export=download\"\n",
    "\n",
    "    with requests.Session() as session:\n",
    "        response = session.get(base_url, params={'id': file_id}, stream=True)\n",
    "        for key, value in response.cookies.items():\n",
    "            if key.startswith('download_warning'):\n",
    "                confirm_token = value\n",
    "                break\n",
    "        else:\n",
    "            confirm_token = None\n",
    "        \n",
    "        if confirm_token:\n",
    "            params = {'id': file_id, 'confirm': confirm_token}\n",
    "            response = session.get(base_url, params=params, stream=True)\n",
    "\n",
    "        # Escrever o conteúdo do arquivo no destino\n",
    "        with open(destination, 'wb') as f:\n",
    "            for chunk in response.iter_content(32768):\n",
    "                f.write(chunk)"
   ]
  },
  {
   "cell_type": "code",
   "execution_count": null,
   "metadata": {},
   "outputs": [],
   "source": [
    "# download zip\n",
    "download_large_file_from_google_drive('1l2wyk0--oFj_agtV2MuTPkkvfGZatTnN', 'temp_.rar')\n",
    "\n",
    "# extract zip\n",
    "zip_object = zipfile.ZipFile(file='temp_.rar', mode = 'r')\n",
    "zip_object.extractall('./')\n",
    "zip_object.close()\n",
    "\n",
    "# remove tempItens\n",
    "os.remove('temp_.rar')\n",
    "shutil.rmtree('./__MACOSX')\n",
    "\n",
    "# move to paste\n",
    "shutil.move('yalefaces', 'using_IBPH/')"
   ]
  },
  {
   "cell_type": "code",
   "execution_count": null,
   "metadata": {},
   "outputs": [],
   "source": [
    "\n",
    "download_large_file_from_google_drive('1ij33VAIHIMCr5tLr6mUxgWMkHSD2ARYR', 'shape_predictor_68_face_landmarks.dat')\n",
    "shutil.move('shape_predictor_68_face_landmarks.dat', 'using_Dlib/')"
   ]
  },
  {
   "cell_type": "code",
   "execution_count": 6,
   "metadata": {},
   "outputs": [
    {
     "data": {
      "text/plain": [
       "'using_Dlib/people2.jpg'"
      ]
     },
     "execution_count": 6,
     "metadata": {},
     "output_type": "execute_result"
    }
   ],
   "source": [
    "\n",
    "download_large_file_from_google_drive('1DjGeC4tbRc3IBb8j2jJPGznBPUUSFVAz', 'people2.jpg')\n",
    "shutil.move('people2.jpg', 'using_Dlib/')\n"
   ]
  }
 ],
 "metadata": {
  "kernelspec": {
   "display_name": ".venv",
   "language": "python",
   "name": "python3"
  },
  "language_info": {
   "codemirror_mode": {
    "name": "ipython",
    "version": 3
   },
   "file_extension": ".py",
   "mimetype": "text/x-python",
   "name": "python",
   "nbconvert_exporter": "python",
   "pygments_lexer": "ipython3",
   "version": "3.10.12"
  }
 },
 "nbformat": 4,
 "nbformat_minor": 2
}
