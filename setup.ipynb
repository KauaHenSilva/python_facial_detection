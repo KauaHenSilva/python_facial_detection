{
 "cells": [
  {
   "cell_type": "code",
   "execution_count": 1,
   "metadata": {},
   "outputs": [],
   "source": [
    "# %pip install requests"
   ]
  },
  {
   "cell_type": "code",
   "execution_count": 2,
   "metadata": {},
   "outputs": [],
   "source": [
    "import requests\n",
    "import zipfile\n",
    "import os\n",
    "import shutil"
   ]
  },
  {
   "cell_type": "code",
   "execution_count": 3,
   "metadata": {},
   "outputs": [],
   "source": [
    "\n",
    "def download_large_file_from_google_drive(file_id, destination):\n",
    "    base_url = \"https://drive.google.com/uc?export=download\"\n",
    "\n",
    "    with requests.Session() as session:\n",
    "        response = session.get(base_url, params={'id': file_id}, stream=True)\n",
    "        for key, value in response.cookies.items():\n",
    "            if key.startswith('download_warning'):\n",
    "                confirm_token = value\n",
    "                break\n",
    "        else:\n",
    "            confirm_token = None\n",
    "        \n",
    "        if confirm_token:\n",
    "            params = {'id': file_id, 'confirm': confirm_token}\n",
    "            response = session.get(base_url, params=params, stream=True)\n",
    "\n",
    "        # Escrever o conteúdo do arquivo no destino\n",
    "        with open(destination, 'wb') as f:\n",
    "            for chunk in response.iter_content(32768):\n",
    "                f.write(chunk)\n",
    "\n",
    "file_id = '1l2wyk0--oFj_agtV2MuTPkkvfGZatTnN'\n",
    "destination = 'imgs.rar'\n",
    "download_large_file_from_google_drive(file_id, destination)\n",
    "\n",
    "zip_object = zipfile.ZipFile(file=destination, mode = 'r')\n",
    "zip_object.extractall('./')\n",
    "zip_object.close()\n",
    "\n",
    "\n",
    "os.remove(destination)\n",
    "shutil.rmtree('./__MACOSX')"
   ]
  }
 ],
 "metadata": {
  "kernelspec": {
   "display_name": ".venv",
   "language": "python",
   "name": "python3"
  },
  "language_info": {
   "codemirror_mode": {
    "name": "ipython",
    "version": 3
   },
   "file_extension": ".py",
   "mimetype": "text/x-python",
   "name": "python",
   "nbconvert_exporter": "python",
   "pygments_lexer": "ipython3",
   "version": "3.10.12"
  }
 },
 "nbformat": 4,
 "nbformat_minor": 2
}
